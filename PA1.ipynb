{
 "cells": [
  {
   "cell_type": "markdown",
   "id": "3c87d9fe",
   "metadata": {},
   "source": [
    "# PA1 Connor Goodman 8/30/21 Fall Semester"
   ]
  },
  {
   "cell_type": "code",
   "execution_count": 2,
   "id": "8b6b6dc0",
   "metadata": {},
   "outputs": [
    {
     "name": "stdout",
     "output_type": "stream",
     "text": [
      "Enter a floating point number: 44.3\n"
     ]
    }
   ],
   "source": [
    "num1 = float(input(\"Enter a floating point number: \"))"
   ]
  },
  {
   "cell_type": "code",
   "execution_count": 5,
   "id": "f8bbab5a",
   "metadata": {},
   "outputs": [
    {
     "name": "stdout",
     "output_type": "stream",
     "text": [
      "Enter an integer: 16\n"
     ]
    }
   ],
   "source": [
    "num2 = int(input(\"Enter an integer: \"))"
   ]
  },
  {
   "cell_type": "code",
   "execution_count": 6,
   "id": "b60d1a0f",
   "metadata": {},
   "outputs": [
    {
     "name": "stdout",
     "output_type": "stream",
     "text": [
      "The Sum is:  60.3\n"
     ]
    }
   ],
   "source": [
    "sum = num1+num2\n",
    "\n",
    "print(\"The Sum is: \", sum)"
   ]
  },
  {
   "cell_type": "code",
   "execution_count": 19,
   "id": "e5b87714",
   "metadata": {},
   "outputs": [
    {
     "name": "stdout",
     "output_type": "stream",
     "text": [
      "The Difference is:  28.299999999999997\n"
     ]
    }
   ],
   "source": [
    "difference = num1-num2\n",
    "\n",
    "print(\"The Difference is: \", difference)"
   ]
  },
  {
   "cell_type": "code",
   "execution_count": 8,
   "id": "dcdbbc52",
   "metadata": {},
   "outputs": [
    {
     "name": "stdout",
     "output_type": "stream",
     "text": [
      "The product is:  708.8\n"
     ]
    }
   ],
   "source": [
    "product = num1*num2\n",
    "\n",
    "print(\"The product is: \", product)"
   ]
  },
  {
   "cell_type": "code",
   "execution_count": 7,
   "id": "0f70c37c",
   "metadata": {},
   "outputs": [
    {
     "name": "stdout",
     "output_type": "stream",
     "text": [
      "The quotient is:  2.76875\n"
     ]
    }
   ],
   "source": [
    "quotient = num1/num2\n",
    "\n",
    "print(\"The quotient is: \", quotient)"
   ]
  },
  {
   "cell_type": "code",
   "execution_count": 9,
   "id": "223ebc14",
   "metadata": {},
   "outputs": [
    {
     "name": "stdout",
     "output_type": "stream",
     "text": [
      "The type for the result is <class 'float'>\n"
     ]
    }
   ],
   "source": [
    "print('The type for the result is', type(num1))"
   ]
  },
  {
   "cell_type": "code",
   "execution_count": null,
   "id": "f0b95d4b",
   "metadata": {},
   "outputs": [],
   "source": []
  }
 ],
 "metadata": {
  "kernelspec": {
   "display_name": "Python 3",
   "language": "python",
   "name": "python3"
  },
  "language_info": {
   "codemirror_mode": {
    "name": "ipython",
    "version": 3
   },
   "file_extension": ".py",
   "mimetype": "text/x-python",
   "name": "python",
   "nbconvert_exporter": "python",
   "pygments_lexer": "ipython3",
   "version": "3.8.8"
  }
 },
 "nbformat": 4,
 "nbformat_minor": 5
}
